{
  "nbformat": 4,
  "nbformat_minor": 0,
  "metadata": {
    "colab": {
      "name": "comparing_imputation_techniques.ipynb",
      "provenance": [],
      "collapsed_sections": []
    },
    "kernelspec": {
      "name": "python3",
      "display_name": "Python 3"
    },
    "language_info": {
      "name": "python"
    }
  },
  "cells": [
    {
      "cell_type": "code",
      "metadata": {
        "id": "FoypxkFSuyBo"
      },
      "source": [
        "import pandas as pd\n",
        "import warnings\n",
        "warnings.filterwarnings(\"ignore\")\n",
        "import matplotlib.pyplot as plt"
      ],
      "execution_count": null,
      "outputs": []
    },
    {
      "cell_type": "markdown",
      "metadata": {
        "id": "eH-tMa9JvvaO"
      },
      "source": [
        "# Evaluation techniques\n",
        "\n",
        "* Imputations are used to improve model performance\n",
        "* Imputation with maximum machine learning model performance is selected\n",
        "* Density plots explain the distribution in the data to check bias in the imputations"
      ]
    },
    {
      "cell_type": "code",
      "metadata": {
        "id": "vvQhVmBuu4J2"
      },
      "source": [
        "df = pd.read_csv(\"/content/diabetes.csv\")"
      ],
      "execution_count": null,
      "outputs": []
    },
    {
      "cell_type": "code",
      "metadata": {
        "colab": {
          "base_uri": "https://localhost:8080/"
        },
        "id": "79boIrHj6XUP",
        "outputId": "9de1bdbd-65f6-4426-ca9e-f2ba7d4b2747"
      },
      "source": [
        "df.isnull().mean()*100"
      ],
      "execution_count": null,
      "outputs": [
        {
          "output_type": "execute_result",
          "data": {
            "text/plain": [
              "Pregnant              0.000000\n",
              "Glucose               0.651042\n",
              "Diastolic_BP          4.557292\n",
              "Skin_Fold            29.557292\n",
              "Serum_Insulin        48.697917\n",
              "BMI                   1.432292\n",
              "Diabetes_Pedigree     0.000000\n",
              "Age                   0.000000\n",
              "Class                 0.000000\n",
              "dtype: float64"
            ]
          },
          "metadata": {
            "tags": []
          },
          "execution_count": 27
        }
      ]
    },
    {
      "cell_type": "code",
      "metadata": {
        "id": "V7xHts9oHCRE"
      },
      "source": [
        "import statsmodels.api as sm\n",
        "\n",
        "df_cc = df.dropna(how=\"any\") # drop any row where there is a missing value --> baseline model\n",
        "X = sm.add_constant(df_cc.iloc[:,:-1]) # excluding target columns \"Class\"\n",
        "y = df_cc[\"Class\"]\n",
        "lm = sm.OLS(y, X).fit()"
      ],
      "execution_count": null,
      "outputs": []
    },
    {
      "cell_type": "code",
      "metadata": {
        "colab": {
          "base_uri": "https://localhost:8080/",
          "height": 625
        },
        "id": "i_X6X1J8HCON",
        "outputId": "4d24c4e5-86c4-470d-e09f-dbabd5205c0e"
      },
      "source": [
        "lm.summary()"
      ],
      "execution_count": null,
      "outputs": [
        {
          "output_type": "execute_result",
          "data": {
            "text/html": [
              "<table class=\"simpletable\">\n",
              "<caption>OLS Regression Results</caption>\n",
              "<tr>\n",
              "  <th>Dep. Variable:</th>          <td>Class</td>      <th>  R-squared:         </th> <td>   0.346</td>\n",
              "</tr>\n",
              "<tr>\n",
              "  <th>Model:</th>                   <td>OLS</td>       <th>  Adj. R-squared:    </th> <td>   0.332</td>\n",
              "</tr>\n",
              "<tr>\n",
              "  <th>Method:</th>             <td>Least Squares</td>  <th>  F-statistic:       </th> <td>   25.30</td>\n",
              "</tr>\n",
              "<tr>\n",
              "  <th>Date:</th>             <td>Sat, 24 Apr 2021</td> <th>  Prob (F-statistic):</th> <td>2.65e-31</td>\n",
              "</tr>\n",
              "<tr>\n",
              "  <th>Time:</th>                 <td>13:43:01</td>     <th>  Log-Likelihood:    </th> <td> -177.76</td>\n",
              "</tr>\n",
              "<tr>\n",
              "  <th>No. Observations:</th>      <td>   392</td>      <th>  AIC:               </th> <td>   373.5</td>\n",
              "</tr>\n",
              "<tr>\n",
              "  <th>Df Residuals:</th>          <td>   383</td>      <th>  BIC:               </th> <td>   409.3</td>\n",
              "</tr>\n",
              "<tr>\n",
              "  <th>Df Model:</th>              <td>     8</td>      <th>                     </th>     <td> </td>   \n",
              "</tr>\n",
              "<tr>\n",
              "  <th>Covariance Type:</th>      <td>nonrobust</td>    <th>                     </th>     <td> </td>   \n",
              "</tr>\n",
              "</table>\n",
              "<table class=\"simpletable\">\n",
              "<tr>\n",
              "          <td></td>             <th>coef</th>     <th>std err</th>      <th>t</th>      <th>P>|t|</th>  <th>[0.025</th>    <th>0.975]</th>  \n",
              "</tr>\n",
              "<tr>\n",
              "  <th>const</th>             <td>   -1.1027</td> <td>    0.144</td> <td>   -7.681</td> <td> 0.000</td> <td>   -1.385</td> <td>   -0.820</td>\n",
              "</tr>\n",
              "<tr>\n",
              "  <th>Pregnant</th>          <td>    0.0130</td> <td>    0.008</td> <td>    1.549</td> <td> 0.122</td> <td>   -0.003</td> <td>    0.029</td>\n",
              "</tr>\n",
              "<tr>\n",
              "  <th>Glucose</th>           <td>    0.0064</td> <td>    0.001</td> <td>    7.855</td> <td> 0.000</td> <td>    0.005</td> <td>    0.008</td>\n",
              "</tr>\n",
              "<tr>\n",
              "  <th>Diastolic_BP</th>      <td> 5.465e-05</td> <td>    0.002</td> <td>    0.032</td> <td> 0.975</td> <td>   -0.003</td> <td>    0.003</td>\n",
              "</tr>\n",
              "<tr>\n",
              "  <th>Skin_Fold</th>         <td>    0.0017</td> <td>    0.003</td> <td>    0.665</td> <td> 0.506</td> <td>   -0.003</td> <td>    0.007</td>\n",
              "</tr>\n",
              "<tr>\n",
              "  <th>Serum_Insulin</th>     <td>   -0.0001</td> <td>    0.000</td> <td>   -0.603</td> <td> 0.547</td> <td>   -0.001</td> <td>    0.000</td>\n",
              "</tr>\n",
              "<tr>\n",
              "  <th>BMI</th>               <td>    0.0093</td> <td>    0.004</td> <td>    2.391</td> <td> 0.017</td> <td>    0.002</td> <td>    0.017</td>\n",
              "</tr>\n",
              "<tr>\n",
              "  <th>Diabetes_Pedigree</th> <td>    0.1572</td> <td>    0.058</td> <td>    2.708</td> <td> 0.007</td> <td>    0.043</td> <td>    0.271</td>\n",
              "</tr>\n",
              "<tr>\n",
              "  <th>Age</th>               <td>    0.0059</td> <td>    0.003</td> <td>    2.109</td> <td> 0.036</td> <td>    0.000</td> <td>    0.011</td>\n",
              "</tr>\n",
              "</table>\n",
              "<table class=\"simpletable\">\n",
              "<tr>\n",
              "  <th>Omnibus:</th>       <td> 9.511</td> <th>  Durbin-Watson:     </th> <td>   1.920</td>\n",
              "</tr>\n",
              "<tr>\n",
              "  <th>Prob(Omnibus):</th> <td> 0.009</td> <th>  Jarque-Bera (JB):  </th> <td>   9.387</td>\n",
              "</tr>\n",
              "<tr>\n",
              "  <th>Skew:</th>          <td> 0.344</td> <th>  Prob(JB):          </th> <td> 0.00916</td>\n",
              "</tr>\n",
              "<tr>\n",
              "  <th>Kurtosis:</th>      <td> 2.682</td> <th>  Cond. No.          </th> <td>1.77e+03</td>\n",
              "</tr>\n",
              "</table><br/><br/>Warnings:<br/>[1] Standard Errors assume that the covariance matrix of the errors is correctly specified.<br/>[2] The condition number is large, 1.77e+03. This might indicate that there are<br/>strong multicollinearity or other numerical problems."
            ],
            "text/plain": [
              "<class 'statsmodels.iolib.summary.Summary'>\n",
              "\"\"\"\n",
              "                            OLS Regression Results                            \n",
              "==============================================================================\n",
              "Dep. Variable:                  Class   R-squared:                       0.346\n",
              "Model:                            OLS   Adj. R-squared:                  0.332\n",
              "Method:                 Least Squares   F-statistic:                     25.30\n",
              "Date:                Sat, 24 Apr 2021   Prob (F-statistic):           2.65e-31\n",
              "Time:                        13:43:01   Log-Likelihood:                -177.76\n",
              "No. Observations:                 392   AIC:                             373.5\n",
              "Df Residuals:                     383   BIC:                             409.3\n",
              "Df Model:                           8                                         \n",
              "Covariance Type:            nonrobust                                         \n",
              "=====================================================================================\n",
              "                        coef    std err          t      P>|t|      [0.025      0.975]\n",
              "-------------------------------------------------------------------------------------\n",
              "const                -1.1027      0.144     -7.681      0.000      -1.385      -0.820\n",
              "Pregnant              0.0130      0.008      1.549      0.122      -0.003       0.029\n",
              "Glucose               0.0064      0.001      7.855      0.000       0.005       0.008\n",
              "Diastolic_BP       5.465e-05      0.002      0.032      0.975      -0.003       0.003\n",
              "Skin_Fold             0.0017      0.003      0.665      0.506      -0.003       0.007\n",
              "Serum_Insulin        -0.0001      0.000     -0.603      0.547      -0.001       0.000\n",
              "BMI                   0.0093      0.004      2.391      0.017       0.002       0.017\n",
              "Diabetes_Pedigree     0.1572      0.058      2.708      0.007       0.043       0.271\n",
              "Age                   0.0059      0.003      2.109      0.036       0.000       0.011\n",
              "==============================================================================\n",
              "Omnibus:                        9.511   Durbin-Watson:                   1.920\n",
              "Prob(Omnibus):                  0.009   Jarque-Bera (JB):                9.387\n",
              "Skew:                           0.344   Prob(JB):                      0.00916\n",
              "Kurtosis:                       2.682   Cond. No.                     1.77e+03\n",
              "==============================================================================\n",
              "\n",
              "Warnings:\n",
              "[1] Standard Errors assume that the covariance matrix of the errors is correctly specified.\n",
              "[2] The condition number is large, 1.77e+03. This might indicate that there are\n",
              "strong multicollinearity or other numerical problems.\n",
              "\"\"\""
            ]
          },
          "metadata": {
            "tags": []
          },
          "execution_count": 29
        }
      ]
    },
    {
      "cell_type": "code",
      "metadata": {
        "colab": {
          "base_uri": "https://localhost:8080/"
        },
        "id": "_plqzrtLHCID",
        "outputId": "fe50e758-06e2-4ba2-d4f0-dfc2d7144582"
      },
      "source": [
        "lm.rsquared_adj"
      ],
      "execution_count": null,
      "outputs": [
        {
          "output_type": "execute_result",
          "data": {
            "text/plain": [
              "0.33210805003287613"
            ]
          },
          "metadata": {
            "tags": []
          },
          "execution_count": 30
        }
      ]
    },
    {
      "cell_type": "code",
      "metadata": {
        "colab": {
          "base_uri": "https://localhost:8080/"
        },
        "id": "X-5uIaEZHwyX",
        "outputId": "c1f0d757-8c24-42a6-9399-3209dcb25f75"
      },
      "source": [
        "lm.params"
      ],
      "execution_count": null,
      "outputs": [
        {
          "output_type": "execute_result",
          "data": {
            "text/plain": [
              "const               -1.102677\n",
              "Pregnant             0.012953\n",
              "Glucose              0.006409\n",
              "Diastolic_BP         0.000055\n",
              "Skin_Fold            0.001678\n",
              "Serum_Insulin       -0.000123\n",
              "BMI                  0.009325\n",
              "Diabetes_Pedigree    0.157192\n",
              "Age                  0.005878\n",
              "dtype: float64"
            ]
          },
          "metadata": {
            "tags": []
          },
          "execution_count": 31
        }
      ]
    },
    {
      "cell_type": "code",
      "metadata": {
        "colab": {
          "base_uri": "https://localhost:8080/"
        },
        "id": "OfUil6hwHwwT",
        "outputId": "9569df87-806a-44f2-d879-9371051dfb86"
      },
      "source": [
        "# Mean Imputation\n",
        "from sklearn.impute import SimpleImputer\n",
        "\n",
        "df_mean = df.copy(deep=True)\n",
        "mean_imputer = SimpleImputer(strategy=\"mean\")\n",
        "df_mean.iloc[:, :] = mean_imputer.fit_transform(df_mean)\n",
        "\n",
        "X = sm.add_constant(df_mean.iloc[:, :-1])\n",
        "y = df[\"Class\"]\n",
        "lm_mean = sm.OLS(y, X).fit()\n",
        "\n",
        "# KNN Imputation\n",
        "from fancyimpute import KNN\n",
        "knn_imputer = KNN()\n",
        "\n",
        "df_knn = df.copy(deep=True)\n",
        "df_knn.iloc[:,:]= knn_imputer.fit_transform(df_knn)\n",
        "X = sm.add_constant(df_knn.iloc[:, :-1])\n",
        "lm_KNN = sm.OLS(y, X).fit()\n",
        "\n",
        "# MICE Imputation\n",
        "from fancyimpute import IterativeImputer\n",
        "MICE_imputer = IterativeImputer()\n",
        "\n",
        "df_MICE = df.copy(deep=True)\n",
        "df_MICE.iloc[:,:] = MICE_imputer.fit_transform(df_MICE)\n",
        "X = sm.add_constant(df_MICE.iloc[:, :-1])\n",
        "lm_MICE = sm.OLS(y, X).fit()"
      ],
      "execution_count": null,
      "outputs": [
        {
          "output_type": "stream",
          "text": [
            "Imputing row 1/768 with 1 missing, elapsed time: 0.156\n",
            "Imputing row 101/768 with 2 missing, elapsed time: 0.160\n",
            "Imputing row 201/768 with 1 missing, elapsed time: 0.162\n",
            "Imputing row 301/768 with 3 missing, elapsed time: 0.165\n",
            "Imputing row 401/768 with 2 missing, elapsed time: 0.168\n",
            "Imputing row 501/768 with 0 missing, elapsed time: 0.171\n",
            "Imputing row 601/768 with 1 missing, elapsed time: 0.173\n",
            "Imputing row 701/768 with 0 missing, elapsed time: 0.176\n"
          ],
          "name": "stdout"
        }
      ]
    },
    {
      "cell_type": "code",
      "metadata": {
        "colab": {
          "base_uri": "https://localhost:8080/"
        },
        "id": "1kNgSUSFHwrc",
        "outputId": "f8e7ea91-4023-493a-dbf2-de3b8137b1d3"
      },
      "source": [
        "# Compare all the R-squared of different imputations\n",
        "\n",
        "print(pd.DataFrame({\"Complete\": lm.rsquared_adj,\n",
        "                    \"Mean Imp.\": lm_mean.rsquared_adj,\n",
        "                    \"KNN Imp.\": lm_KNN.rsquared_adj,\n",
        "                    \"MICE Imp.\": lm_MICE.rsquared_adj},\n",
        "                   index=[\"R_squared_adj\"]))"
      ],
      "execution_count": null,
      "outputs": [
        {
          "output_type": "stream",
          "text": [
            "               Complete  Mean Imp.  KNN Imp.  MICE Imp.\n",
            "R_squared_adj  0.332108   0.313781  0.316505    0.31755\n"
          ],
          "name": "stdout"
        }
      ]
    },
    {
      "cell_type": "code",
      "metadata": {
        "colab": {
          "base_uri": "https://localhost:8080/",
          "height": 296
        },
        "id": "mmjsmexwHwnL",
        "outputId": "eaf68a3a-b413-4949-db82-d2e821237e70"
      },
      "source": [
        "# Comparing density plots\n",
        "\n",
        "df_cc[\"Skin_Fold\"].plot(kind=\"kde\", c=\"red\", linewidth=3)\n",
        "df_mean[\"Skin_Fold\"].plot(kind=\"kde\")\n",
        "df_knn[\"Skin_Fold\"].plot(kind=\"kde\")\n",
        "df_MICE[\"Skin_Fold\"].plot(kind=\"kde\")\n",
        "\n",
        "labels=[\"Baseline (Complete Case\", \"Mean Imputation\", \"KNN Imputation\", \"MICE Imputation\"]\n",
        "\n",
        "plt.legend(labels)\n",
        "plt.xlabel(\"Skin Fold\")"
      ],
      "execution_count": null,
      "outputs": [
        {
          "output_type": "execute_result",
          "data": {
            "text/plain": [
              "Text(0.5, 0, 'Skin Fold')"
            ]
          },
          "metadata": {
            "tags": []
          },
          "execution_count": 39
        },
        {
          "output_type": "display_data",
          "data": {
            "image/png": "[encoded data removed]",
            "text/plain": [
              "<Figure size 432x288 with 1 Axes>"
            ]
          },
          "metadata": {
            "tags": [],
            "needs_background": "light"
          }
        }
      ]
    },
    {
      "cell_type": "markdown",
      "metadata": {
        "id": "eR3hUeKdKfyq"
      },
      "source": [
        "# Summary\n",
        "* Mean imputation is totally out of shape\n",
        "* MICE and KNN fits better to the data"
      ]
    },
    {
      "cell_type": "code",
      "metadata": {
        "id": "9HQNCKfm8CpO"
      },
      "source": [
        ""
      ],
      "execution_count": null,
      "outputs": []
    }
  ]
}