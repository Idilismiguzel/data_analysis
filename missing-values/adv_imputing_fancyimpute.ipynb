{
  "nbformat": 4,
  "nbformat_minor": 0,
  "metadata": {
    "colab": {
      "name": "adv_imputing_fancyimpute.ipynb",
      "provenance": []
    },
    "kernelspec": {
      "name": "python3",
      "display_name": "Python 3"
    },
    "language_info": {
      "name": "python"
    }
  },
  "cells": [
    {
      "cell_type": "code",
      "metadata": {
        "id": "FoypxkFSuyBo"
      },
      "source": [
        "import pandas as pd\n",
        "import warnings\n",
        "warnings.filterwarnings(\"ignore\")"
      ],
      "execution_count": 18,
      "outputs": []
    },
    {
      "cell_type": "markdown",
      "metadata": {
        "id": "eH-tMa9JvvaO"
      },
      "source": [
        "# Fancyimpute imputation techniques \n",
        "\n",
        "fancyimpute uses other columns to predict the missing values and impute them\n",
        "\n",
        "* KNN or K-nearest Neighbor\n",
        "* MICE or Multiple Imputation by Chained Equations"
      ]
    },
    {
      "cell_type": "code",
      "metadata": {
        "id": "vvQhVmBuu4J2"
      },
      "source": [
        "df = pd.read_csv(\"/content/diabetes.csv\")"
      ],
      "execution_count": 19,
      "outputs": []
    },
    {
      "cell_type": "code",
      "metadata": {
        "colab": {
          "base_uri": "https://localhost:8080/"
        },
        "id": "79boIrHj6XUP",
        "outputId": "902ef316-3cbf-4848-e82a-05e42ae6464e"
      },
      "source": [
        "df.isnull().mean()*100"
      ],
      "execution_count": 20,
      "outputs": [
        {
          "output_type": "execute_result",
          "data": {
            "text/plain": [
              "Pregnant              0.000000\n",
              "Glucose               0.651042\n",
              "Diastolic_BP          4.557292\n",
              "Skin_Fold            29.557292\n",
              "Serum_Insulin        48.697917\n",
              "BMI                   1.432292\n",
              "Diabetes_Pedigree     0.000000\n",
              "Age                   0.000000\n",
              "Class                 0.000000\n",
              "dtype: float64"
            ]
          },
          "metadata": {
            "tags": []
          },
          "execution_count": 20
        }
      ]
    },
    {
      "cell_type": "markdown",
      "metadata": {
        "id": "K4QZZYxv6zX4"
      },
      "source": [
        "KNN:\n",
        "* selects K nearest or similar data points using all the non-missing features\n",
        "* takes average of the selected data points to fill in the missing feature"
      ]
    },
    {
      "cell_type": "code",
      "metadata": {
        "colab": {
          "base_uri": "https://localhost:8080/"
        },
        "id": "dh9URc3lvq9L",
        "outputId": "0b098ea6-44e8-4f48-e29b-99a96394098e"
      },
      "source": [
        "from fancyimpute import KNN\n",
        "knn_imputer = KNN()\n",
        "\n",
        "df_knn = df.copy(deep=True)\n",
        "df_knn.iloc[:,:]= knn_imputer.fit_transform(df_knn)\n"
      ],
      "execution_count": 21,
      "outputs": [
        {
          "output_type": "stream",
          "text": [
            "Imputing row 1/768 with 1 missing, elapsed time: 0.117\n",
            "Imputing row 101/768 with 2 missing, elapsed time: 0.121\n",
            "Imputing row 201/768 with 1 missing, elapsed time: 0.125\n",
            "Imputing row 301/768 with 3 missing, elapsed time: 0.128\n",
            "Imputing row 401/768 with 2 missing, elapsed time: 0.131\n",
            "Imputing row 501/768 with 0 missing, elapsed time: 0.134\n",
            "Imputing row 601/768 with 1 missing, elapsed time: 0.137\n",
            "Imputing row 701/768 with 0 missing, elapsed time: 0.140\n"
          ],
          "name": "stdout"
        }
      ]
    },
    {
      "cell_type": "code",
      "metadata": {
        "colab": {
          "base_uri": "https://localhost:8080/"
        },
        "id": "Bk2UiTmM6O0S",
        "outputId": "c174bc99-0d0a-431c-f3c4-15399692b381"
      },
      "source": [
        "df_knn.isnull().sum()"
      ],
      "execution_count": 22,
      "outputs": [
        {
          "output_type": "execute_result",
          "data": {
            "text/plain": [
              "Pregnant             0\n",
              "Glucose              0\n",
              "Diastolic_BP         0\n",
              "Skin_Fold            0\n",
              "Serum_Insulin        0\n",
              "BMI                  0\n",
              "Diabetes_Pedigree    0\n",
              "Age                  0\n",
              "Class                0\n",
              "dtype: int64"
            ]
          },
          "metadata": {
            "tags": []
          },
          "execution_count": 22
        }
      ]
    },
    {
      "cell_type": "markdown",
      "metadata": {
        "id": "dBHHidOu7Vqw"
      },
      "source": [
        "MICE: \n",
        "* Performs multiple regressions over random sample of the data\n",
        "* Takes average of the multiple regression values"
      ]
    },
    {
      "cell_type": "code",
      "metadata": {
        "id": "F64Nmjc67bON"
      },
      "source": [
        "from fancyimpute import IterativeImputer\n",
        "MICE_imputer = IterativeImputer()\n",
        "\n",
        "df_MICE = df.copy(deep=True)\n",
        "df_MICE.iloc[:,:] = MICE_imputer.fit_transform(df_MICE)"
      ],
      "execution_count": 23,
      "outputs": []
    },
    {
      "cell_type": "code",
      "metadata": {
        "colab": {
          "base_uri": "https://localhost:8080/"
        },
        "id": "w1V1Ef3O7uhI",
        "outputId": "f5f6ccc0-bd79-42eb-8e7b-c51ed9ab541c"
      },
      "source": [
        "df_MICE.isnull().sum()"
      ],
      "execution_count": 24,
      "outputs": [
        {
          "output_type": "execute_result",
          "data": {
            "text/plain": [
              "Pregnant             0\n",
              "Glucose              0\n",
              "Diastolic_BP         0\n",
              "Skin_Fold            0\n",
              "Serum_Insulin        0\n",
              "BMI                  0\n",
              "Diabetes_Pedigree    0\n",
              "Age                  0\n",
              "Class                0\n",
              "dtype: int64"
            ]
          },
          "metadata": {
            "tags": []
          },
          "execution_count": 24
        }
      ]
    },
    {
      "cell_type": "markdown",
      "metadata": {
        "id": "iWXKiXVR8LEB"
      },
      "source": [
        "# Summary\n",
        "\n",
        "* KNN finds most similar points for imputing\n",
        "* MICE performs multiple regression for imputing\n",
        "* MICE is a very robust module for imputing"
      ]
    },
    {
      "cell_type": "code",
      "metadata": {
        "id": "9HQNCKfm8CpO"
      },
      "source": [
        ""
      ],
      "execution_count": null,
      "outputs": []
    }
  ]
}