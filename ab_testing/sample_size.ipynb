{
  "nbformat": 4,
  "nbformat_minor": 0,
  "metadata": {
    "colab": {
      "name": "sample_size.ipynb",
      "provenance": [],
      "collapsed_sections": []
    },
    "kernelspec": {
      "name": "python3",
      "display_name": "Python 3"
    },
    "language_info": {
      "name": "python"
    }
  },
  "cells": [
    {
      "cell_type": "code",
      "metadata": {
        "id": "1KbmN9yVv3os"
      },
      "source": [
        "import numpy as np\n",
        "from scipy import stats"
      ],
      "execution_count": 5,
      "outputs": []
    },
    {
      "cell_type": "code",
      "metadata": {
        "id": "22lLLifyxLFA"
      },
      "source": [
        "def get_power(n, p1, p2, cl):\n",
        "    alpha = 1 - cl\n",
        "    \n",
        "    qu = stats.norm.ppf(1 - alpha/2)\n",
        "    \n",
        "    diff = abs(p2 - p1)\n",
        "    bp = (p1 + p2) / 2\n",
        "    \n",
        "    v1 = p1 * (1 - p1)\n",
        "    v2 = p2 * (1 - p2)\n",
        "    \n",
        "    bv = bp * (1 - bp)\n",
        "    \n",
        "    power_part_one = stats.norm.cdf((n**0.5 * diff - qu * (2 * bv)**0.5)/ (v1 + v2)**0.5)\n",
        "    power_part_two = 1 - stats.norm.cdf((n**0.5 * diff + qu * (2 * bv)**0.5)/ (v1 + v2)**0.5)\n",
        "    \n",
        "    power = power_part_one + power_part_two\n",
        "    return(power)"
      ],
      "execution_count": 6,
      "outputs": []
    },
    {
      "cell_type": "code",
      "metadata": {
        "id": "I0nPxTMKv7xq"
      },
      "source": [
        "# Calculate the sample size needed for the specified power and confidence level\n",
        "def get_sample_size(power, p1, p2, cl, max_n=1000000):\n",
        "  n = 1\n",
        "  while n <= max_n:\n",
        "    tmp_power = get_power(n, p1, p2, cl)\n",
        "    if tmp_power >= power:\n",
        "      return n\n",
        "    else:\n",
        "      n = n +1"
      ],
      "execution_count": 7,
      "outputs": []
    },
    {
      "cell_type": "code",
      "metadata": {
        "colab": {
          "base_uri": "https://localhost:8080/"
        },
        "id": "fLgAO5_BxjRQ",
        "outputId": "b75fedee-2fa1-4a60-84c7-816022ba9307"
      },
      "source": [
        "# Calculate the sample size needed for the conversion rate example\n",
        "\n",
        "# Given\n",
        "baseline_conversion_rate = 0.03468 # calculated from population\n",
        "confidence_level = 0.95 # chosen by us\n",
        "desired_power = 0.80 # chosen by us\n",
        "sensitivity = 0.1 # chosen by us\n",
        "\n",
        "sample_size_per_group = get_sample_size(desired_power, \n",
        "                                        baseline_conversion_rate, \n",
        "                                        baseline_conversion_rate*(1+sensitivity), # lifted conversion rate\n",
        "                                        confidence_level)\n",
        "print(sample_size_per_group)\n"
      ],
      "execution_count": 8,
      "outputs": [
        {
          "output_type": "stream",
          "text": [
            "45796\n"
          ],
          "name": "stdout"
        }
      ]
    },
    {
      "cell_type": "code",
      "metadata": {
        "id": "3-3sFnzWybly"
      },
      "source": [
        ""
      ],
      "execution_count": null,
      "outputs": []
    }
  ]
}