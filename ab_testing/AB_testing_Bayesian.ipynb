{
  "nbformat": 4,
  "nbformat_minor": 0,
  "metadata": {
    "colab": {
      "name": "AB_testing_Bayesian.ipynb",
      "provenance": [],
      "collapsed_sections": []
    },
    "kernelspec": {
      "name": "python3",
      "display_name": "Python 3"
    },
    "language_info": {
      "name": "python"
    }
  },
  "cells": [
    {
      "cell_type": "markdown",
      "metadata": {
        "id": "2bpxoSiB-p3y"
      },
      "source": [
        "# A/B Testing: Bayesian Approach\n",
        "\n",
        "* Directly calculate the probability that A is better than B\n",
        "* Quantify how much better it is\n",
        "* Estimate expected loss in case we make wrong decision"
      ]
    },
    {
      "cell_type": "markdown",
      "metadata": {
        "id": "k5zTAZW-_TT4"
      },
      "source": [
        "# Binomial scenerio\n",
        "\n",
        "* When a user lands on the website, there are two scenarios:\n",
        "-- Click (success)\n",
        "-- No Click (failure)\n",
        "\n",
        "In this case use Binomal distribution. (probability of success = click rate)\n",
        "\n",
        "prior = B(a,b)\n",
        "posterior = B(x,y)\n",
        "\n",
        "x = number_of_success + a\n",
        "y = number_of_observations - number_of_successes + b\n"
      ]
    },
    {
      "cell_type": "code",
      "metadata": {
        "id": "NotT5-50Br63"
      },
      "source": [
        "import numpy as np\n",
        "import seaborn as sns\n",
        "import matplotlib.pyplot as plt"
      ],
      "execution_count": 95,
      "outputs": []
    },
    {
      "cell_type": "code",
      "metadata": {
        "id": "VhpUVsun_oXY"
      },
      "source": [
        "def simulate_beta_posterior(trials, beta_prior_a, beta_prior_b):\n",
        "  num_successes = np.sum(trials)\n",
        "  posterior_draws = np.random.beta(num_successes + beta_prior_a, len(trials) - num_successes + beta_prior_b, 10000)\n",
        "  return posterior_draws"
      ],
      "execution_count": 96,
      "outputs": []
    },
    {
      "cell_type": "code",
      "metadata": {
        "id": "KAEJy6cwAxlq"
      },
      "source": [
        "A_clicks = np.random.binomial(1, 0.5, size=100)\n",
        "B_clicks = np.random.binomial(1, 0.6, size=100)"
      ],
      "execution_count": 107,
      "outputs": []
    },
    {
      "cell_type": "code",
      "metadata": {
        "colab": {
          "base_uri": "https://localhost:8080/"
        },
        "id": "2UQKdMUiBoPb",
        "outputId": "039374fc-9ced-4202-89ec-558ea84de8bd"
      },
      "source": [
        "print(A_clicks)\n",
        "print(B_clicks)"
      ],
      "execution_count": 108,
      "outputs": [
        {
          "output_type": "stream",
          "text": [
            "[0 1 0 0 1 1 0 1 0 1 0 0 0 1 1 0 0 1 0 0 0 0 0 1 0 1 1 1 1 1 1 0 0 1 0 0 1\n",
            " 1 0 1 1 0 0 0 1 0 0 1 1 0 0 0 1 0 1 0 1 1 0 1 1 0 1 0 1 1 0 0 0 1 1 1 1 1\n",
            " 0 1 0 1 0 0 0 0 1 0 0 0 1 0 0 1 1 0 1 0 1 0 1 0 1 1]\n",
            "[1 1 0 0 1 0 1 1 1 1 0 1 0 0 1 0 0 1 1 0 1 0 1 0 0 1 0 0 1 1 1 1 1 0 1 0 1\n",
            " 0 1 0 1 0 1 0 0 0 1 1 1 1 1 0 1 1 1 1 0 1 1 0 0 1 0 1 1 0 0 1 1 0 0 1 1 0\n",
            " 1 0 1 1 1 0 0 0 1 0 1 1 1 0 0 1 1 1 1 0 0 0 1 1 1 0]\n"
          ],
          "name": "stdout"
        }
      ]
    },
    {
      "cell_type": "code",
      "metadata": {
        "colab": {
          "base_uri": "https://localhost:8080/"
        },
        "id": "NFDpi7YxDCUA",
        "outputId": "9b25a282-54ae-4469-8770-cab50d81e3f4"
      },
      "source": [
        "sum(A_clicks)"
      ],
      "execution_count": 109,
      "outputs": [
        {
          "output_type": "execute_result",
          "data": {
            "text/plain": [
              "48"
            ]
          },
          "metadata": {
            "tags": []
          },
          "execution_count": 109
        }
      ]
    },
    {
      "cell_type": "code",
      "metadata": {
        "colab": {
          "base_uri": "https://localhost:8080/"
        },
        "id": "NzZRYe-hDFgP",
        "outputId": "fc947eb5-68c5-417b-875b-138afa176434"
      },
      "source": [
        "sum(B_clicks)"
      ],
      "execution_count": 110,
      "outputs": [
        {
          "output_type": "execute_result",
          "data": {
            "text/plain": [
              "57"
            ]
          },
          "metadata": {
            "tags": []
          },
          "execution_count": 110
        }
      ]
    },
    {
      "cell_type": "code",
      "metadata": {
        "id": "6zc0PlLbBpBQ"
      },
      "source": [
        "a_posterior = simulate_beta_posterior(A_clicks, 1, 1)\n",
        "b_posterior = simulate_beta_posterior(B_clicks, 1, 1)"
      ],
      "execution_count": 111,
      "outputs": []
    },
    {
      "cell_type": "code",
      "metadata": {
        "colab": {
          "base_uri": "https://localhost:8080/",
          "height": 265
        },
        "id": "DlsBCvm9BqKq",
        "outputId": "ee5a21c5-271a-4e75-dcaa-860f02cd0eff"
      },
      "source": [
        "sns.kdeplot(a_posterior, shade=True, label=\"A\",)\n",
        "sns.kdeplot(b_posterior, shade=True, label=\"B\",)\n",
        "plt.legend()\n",
        "plt.show()"
      ],
      "execution_count": 112,
      "outputs": [
        {
          "output_type": "display_data",
          "data": {
            "image/png": "[encoded data removed]",
            "text/plain": [
              "<Figure size 432x288 with 1 Axes>"
            ]
          },
          "metadata": {
            "tags": [],
            "needs_background": "light"
          }
        }
      ]
    },
    {
      "cell_type": "markdown",
      "metadata": {
        "id": "9dXE5Q_DDo4w"
      },
      "source": [
        "A seems to be better, although the two overlap."
      ]
    },
    {
      "cell_type": "code",
      "metadata": {
        "colab": {
          "base_uri": "https://localhost:8080/",
          "height": 265
        },
        "id": "QpUO6V4RCWYR",
        "outputId": "6ac87ecc-45cf-4bcc-f0d7-089d1bf56328"
      },
      "source": [
        "# Comparing posteriors\n",
        "\n",
        "diff = b_posterior - a_posterior\n",
        "\n",
        "sns.kdeplot(diff, shade=True, label=\"difference: A-B\")\n",
        "plt.legend()\n",
        "plt.show()"
      ],
      "execution_count": 113,
      "outputs": [
        {
          "output_type": "display_data",
          "data": {
            "image/png": "[encoded data removed]",
            "text/plain": [
              "<Figure size 432x288 with 1 Axes>"
            ]
          },
          "metadata": {
            "tags": [],
            "needs_background": "light"
          }
        }
      ]
    },
    {
      "cell_type": "markdown",
      "metadata": {
        "id": "o3iWgkn2D_DW"
      },
      "source": [
        "We can substract one from the other to calculate the posterior difference between click rates. \n",
        "* It is very likely to be positive which corresponds to B being better."
      ]
    },
    {
      "cell_type": "code",
      "metadata": {
        "colab": {
          "base_uri": "https://localhost:8080/"
        },
        "id": "P5fP1guLDbeR",
        "outputId": "2107e10b-5e7c-4056-e16d-470f16319217"
      },
      "source": [
        "# To get the explicit probabilty of B being better than A, \n",
        "# we can create Boolean array that is True when B is better and False otherwise, and compute its mean\n",
        "(diff > 0).mean()"
      ],
      "execution_count": 114,
      "outputs": [
        {
          "output_type": "execute_result",
          "data": {
            "text/plain": [
              "0.8975"
            ]
          },
          "metadata": {
            "tags": []
          },
          "execution_count": 114
        }
      ]
    },
    {
      "cell_type": "markdown",
      "metadata": {
        "id": "6-JV3iHwEvGd"
      },
      "source": [
        "89% probability that the B is better!"
      ]
    },
    {
      "cell_type": "code",
      "metadata": {
        "colab": {
          "base_uri": "https://localhost:8080/"
        },
        "id": "pDaQoerjEZbZ",
        "outputId": "2fc18c4b-f7b9-4cce-88a2-dbf8ba2949be"
      },
      "source": [
        "# Calculate Expected Loss\n",
        "\n",
        "# To answer: If we deploy the worse version, how many clicks do we lose?\n",
        "\n",
        "# Difference (B-A) when A is better\n",
        "loss = diff[diff < 0]  # --> this is the amount that we will loose if we deploy B\n",
        "\n",
        "# Expected (avg) loss\n",
        "expected_loss = loss.mean()\n",
        "print(expected_loss)"
      ],
      "execution_count": 115,
      "outputs": [
        {
          "output_type": "stream",
          "text": [
            "-0.031973894323466506\n"
          ],
          "name": "stdout"
        }
      ]
    },
    {
      "cell_type": "markdown",
      "metadata": {
        "id": "VXBnIH1bY0Lc"
      },
      "source": [
        "If we deploy version B, which we know that 89% better, we still have a risk of 11%. \n",
        "If it turns out that A is better, we will loose only 0.032 percentage points in the click rate."
      ]
    },
    {
      "cell_type": "code",
      "metadata": {
        "id": "K3RxyU5iYson"
      },
      "source": [
        "# Decision Analysis\n",
        "\n",
        "# click_rate * impressions * revenue_per_click = Revenue\n",
        "\n",
        "# Different revenue per click\n",
        "num_impressions = 1000\n",
        "rev_per_click_a = 3.6\n",
        "rev_per_click_b = 3\n",
        "\n",
        "# Compute number of click\n",
        "num_clicks_a = a_posterior * num_impressions\n",
        "num_clicks_b = b_posterior * num_impressions\n",
        "\n",
        "# Compute posterior revenue\n",
        "rev_a = num_clicks_a * rev_per_click_a\n",
        "rev_b = num_clicks_b * rev_per_click_b"
      ],
      "execution_count": 116,
      "outputs": []
    },
    {
      "cell_type": "code",
      "metadata": {
        "colab": {
          "base_uri": "https://localhost:8080/",
          "height": 265
        },
        "id": "t3lyRlgElSny",
        "outputId": "523c97f1-7e9b-4229-849b-a4b25fec7486"
      },
      "source": [
        "sns.kdeplot(rev_a, shade=True, label=\"A\",)\n",
        "sns.kdeplot(rev_b, shade=True, label=\"B\",)\n",
        "plt.legend()\n",
        "plt.show()"
      ],
      "execution_count": 129,
      "outputs": [
        {
          "output_type": "display_data",
          "data": {
            "image/png": "[encoded data removed]",
            "text/plain": [
              "<Figure size 432x288 with 1 Axes>"
            ]
          },
          "metadata": {
            "tags": [],
            "needs_background": "light"
          }
        }
      ]
    },
    {
      "cell_type": "code",
      "metadata": {
        "id": "jLXx2Mualw76"
      },
      "source": [
        ""
      ],
      "execution_count": null,
      "outputs": []
    }
  ]
}